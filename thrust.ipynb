{
 "cells": [
  {
   "cell_type": "code",
   "execution_count": null,
   "id": "89b8383b-7933-411d-b163-2cb36f11697c",
   "metadata": {},
   "outputs": [
    {
     "name": "stdout",
     "output_type": "stream",
     "text": [
      "Dynamic pressure at altitude 0 m: 2287.50 N/m^2\n",
      "Dynamic pressure at altitude 5000 m: 1219.54 N/m^2\n",
      "Dynamic pressure at altitude 10000 m: 596.81 N/m^2\n",
      "Dynamic pressure at altitude 0 m: 2287.50 N/m^2\n",
      "Takeoff velocity: 61.11 m/s\n",
      "Required takeoff thrust: 5644.90 N\n",
      "Required climb thrust: 48393.25 N\n",
      "Required cruise thrust: 1964.62 N\n",
      "Required landing thrust: 153800.50 N\n"
     ]
    }
   ],
   "source": [
    "import math\n",
    "import math\n",
    "import numpy as np\n",
    "\n",
    "# Constants\n",
    "rho0 = 1.225  # Sea level air density (kg/m^3)\n",
    "h = [0, 5000, 10000, 0]  # Altitudes in meters\n",
    "rho_cruise = 0.38  # Air density at cruise altitude (kg/m^3)\n",
    "Cd0 = 0.007856\n",
    "delta = 0.005\n",
    "AR = 1.8  # Aspect ratio\n",
    "CL1 = 0.2  # Lift coefficient at takeoff\n",
    "CL2 = 0.4  # Lift coefficient during climb\n",
    "CL3 = 0.261  # Lift coefficient at cruise\n",
    "CL4 = 1.5  # Lift coefficient at landing\n",
    "cl = [CL1, CL2, CL3, CL4]\n",
    "\n",
    "# Induced drag coefficient calculation\n",
    "cd_induce = np.zeros(len(cl))\n",
    "for i in range(len(cl)):\n",
    "    cd_induce[i] = (((cl[i] ** 2) / (np.pi * AR)) * (1 + delta)) + Cd0\n",
    "\n",
    "# Wing area and weight\n",
    "S = 164.9  # Wing area (m^2)\n",
    "W = 471511.32  # Maximum takeoff weight (N)\n",
    "\n",
    "# Velocities\n",
    "v1 = 1.2 * math.sqrt((2 * W) / (rho0 * S * 1.8))  # Takeoff velocity (m/s)\n",
    "v2 = 150  # Climb velocity (m/s)\n",
    "v3 = 250.75  # Cruise velocity (m/s)\n",
    "v4 = 60  # Landing velocity (m/s)\n",
    "gamma = 5  # Climb angle in degrees\n",
    "\n",
    "# Density function\n",
    "def rho(h):\n",
    "    # ISA atmosphere model constants\n",
    "    rho0 = 1.225\n",
    "    sea_level_temperature = 288.15\n",
    "    lapse_rate = -0.0065\n",
    "    R = 287.05\n",
    "    g = 9.80665\n",
    "    tropopause_height = 11000\n",
    "\n",
    "    if h <= tropopause_height:\n",
    "        temperature = sea_level_temperature + lapse_rate * h\n",
    "        return rho0 * (temperature / sea_level_temperature) ** (-g / (lapse_rate * R))\n",
    "    else:\n",
    "        temperature = sea_level_temperature + lapse_rate * tropopause_height\n",
    "        exp_factor = (-g * (h - tropopause_height)) / (R * temperature)\n",
    "        return rho0 * (temperature / sea_level_temperature) ** (-g / (lapse_rate * R)) * math.exp(exp_factor)\n",
    "\n",
    "# Dynamic pressure function\n",
    "def dynamic_pressure(V, h_list):\n",
    "    p = np.zeros(len(h_list))\n",
    "    for i in range(len(h_list)):\n",
    "        p[i] = 0.5 * rho(h_list[i]) * V**2\n",
    "        print(f\"Dynamic pressure at altitude {h_list[i]} m: {p[i]:.2f} N/m^2\")\n",
    "    return p\n",
    "\n",
    "# Thrust calculations\n",
    "def thrust_required(Cd, q, S):\n",
    "    return Cd * q * S\n",
    "\n",
    "def thrust_required_climb(W, gamma):\n",
    "    gamma = math.radians(gamma)\n",
    "    return W * math.sin(gamma)\n",
    "\n",
    "# Calculate thrust for different phases\n",
    "q = dynamic_pressure(v1, h)\n",
    "T1 = thrust_required(cd_induce[0], q[0], S)\n",
    "T2 = thrust_required(cd_induce[1], q[1], S) + thrust_required_climb(W, gamma)\n",
    "T3 = thrust_required(cd_induce[2], q[2], S)\n",
    "T4 = thrust_required(cd_induce[3], q[3], S)\n",
    "\n",
    "# Print results\n",
    "print(f\"Takeoff velocity: {v1:.2f} m/s\")\n",
    "print(f\"Required takeoff thrust: {T1:.2f} N\")\n",
    "print(f\"Required climb thrust: {T2:.2f} N\")\n",
    "print(f\"Required cruise thrust: {T3:.2f} N\")\n",
    "print(f\"Required landing thrust: {T4:.2f} N\")\n",
    "ttest=2\n",
    "\n"
   ]
  },
  {
   "cell_type": "code",
   "execution_count": null,
   "id": "82007cf9-5efc-4f1f-b91d-e0dd2f05c8ac",
   "metadata": {},
   "outputs": [
    {
     "name": "stdout",
     "output_type": "stream",
     "text": [
      "Thrust specific fuel consumption: 24079.14\n"
     ]
    }
   ],
   "source": [
    "theta = 0.752  # Temperature ratio (cruise altitude temp / sea level temp)\n",
    "M = 0.85       # Mach number\n",
    "n = 0.8\n",
    "TSFC0 = 16974.41  # Takeoff thrust\n",
    "\n",
    "# Correcting the exponentiation operator\n",
    "TSFC = TSFC0 * (theta ** 0.5) * ((1 + M) ** n)\n",
    "\n",
    "print(f\"Thrust specific fuel consumption: {TSFC:.2f}\")\n",
    "#this still has some problems with it \n",
    "\n",
    "\n",
    "\n",
    "\n",
    "\n"
   ]
  },
  {
   "cell_type": "code",
   "execution_count": null,
   "id": "537585ec",
   "metadata": {},
   "outputs": [],
   "source": []
  }
 ],
 "metadata": {
  "kernelspec": {
   "display_name": "base",
   "language": "python",
   "name": "python3"
  },
  "language_info": {
   "codemirror_mode": {
    "name": "ipython",
    "version": 3
   },
   "file_extension": ".py",
   "mimetype": "text/x-python",
   "name": "python",
   "nbconvert_exporter": "python",
   "pygments_lexer": "ipython3",
   "version": "3.12.4"
  }
 },
 "nbformat": 4,
 "nbformat_minor": 5
}
