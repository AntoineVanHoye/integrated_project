{
 "cells": [
  {
   "cell_type": "code",
   "execution_count": 13,
   "id": "89b8383b-7933-411d-b163-2cb36f11697c",
   "metadata": {},
   "outputs": [
    {
     "name": "stdout",
     "output_type": "stream",
     "text": [
      "Takeoff thrust: 24147.03 N\n",
      "Climb thrust: 80584.68 N\n",
      "Cruise thrust: 47574.44 N\n",
      "Landing thrust: 35156.29 N\n"
     ]
    }
   ],
   "source": [
    "import math\n",
    "import numpy as np\n",
    "\n",
    "# Constants\n",
    "rho0 = 1.225  # Sea level air density (kg/m^3)\n",
    "h = [0, 5000, 10000, 0]  # Altitudes in meters (takeoff, climb, cruise, landing)\n",
    "Cd0 = 0.02  # Parasitic drag coefficient for a BWB\n",
    "delta = 0.005  # Induced drag correction factor\n",
    "AR = 9.0  # Aspect ratio\n",
    "CL = [0.9, 0.7, 0.5, 1.6]  # Lift coefficients for phases (higher for blended wing body)\n",
    "S = 164.9  # Wing area (m^2)\n",
    "W = 471511.32  # Aircraft weight (N)\n",
    "gamma = 5  # Climb angle in degrees\n",
    "v = [70, 140, 250, 56]  # Speeds (m/s) for each phase\n",
    "\n",
    "# Drag coefficients\n",
    "Cd = np.array([Cd0 + ((cl ** 2) / (math.pi * AR)) * (1 + delta) for cl in CL])\n",
    "\n",
    "# Density function (ISA model)\n",
    "def rho(h):\n",
    "    rho0 = 1.225\n",
    "    sea_level_temp = 288.15\n",
    "    lapse_rate = -0.0065\n",
    "    R = 287.05\n",
    "    g = 9.80665\n",
    "    tropopause_height = 11000\n",
    "\n",
    "    if isinstance(h, (list, np.ndarray)):\n",
    "        return np.array([rho(alt) for alt in h])\n",
    "    if h <= tropopause_height:\n",
    "        temperature = sea_level_temp + lapse_rate * h\n",
    "        return rho0 * (temperature / sea_level_temp) ** (-g / (lapse_rate * R))\n",
    "    else:\n",
    "        temperature = sea_level_temp + lapse_rate * tropopause_height\n",
    "        exp_factor = (-g * (h - tropopause_height)) / (R * temperature)\n",
    "        return rho0 * (temperature / sea_level_temp) ** (-g / (lapse_rate * R)) * math.exp(exp_factor)\n",
    "\n",
    "# Dynamic pressure calculation\n",
    "def dynamic_pressure(V, h):\n",
    "    densities = rho(h)\n",
    "    return 0.5 * densities * np.array(V)**2\n",
    "\n",
    "# Thrust required for steady flight\n",
    "def thrust_required(Cd, q, S):\n",
    "    return Cd * q * S\n",
    "\n",
    "# Additional thrust for climb\n",
    "def thrust_required_climb(W, gamma):\n",
    "    gamma_rad = math.radians(gamma)\n",
    "    return W * math.sin(gamma_rad)\n",
    "\n",
    "# Phase calculations\n",
    "q = dynamic_pressure(v, h)  # Dynamic pressure for each phase\n",
    "T = [thrust_required(Cd[i], q[i], S) for i in range(len(v))]\n",
    "T[1] += thrust_required_climb(W, gamma)  # Add climb-specific thrust\n",
    "\n",
    "# Results\n",
    "phases = [\"Takeoff\", \"Climb\", \"Cruise\", \"Landing\"]\n",
    "for i, phase in enumerate(phases):\n",
    "    print(f\"{phase} thrust: {T[i]:.2f} N\")\n"
   ]
  },
  {
   "cell_type": "code",
   "execution_count": null,
   "id": "82007cf9-5efc-4f1f-b91d-e0dd2f05c8ac",
   "metadata": {},
   "outputs": [
    {
     "name": "stdout",
     "output_type": "stream",
     "text": [
      "Thrust specific fuel consumption: 24079.14\n"
     ]
    }
   ],
   "source": [
    "theta = 0.752  # Temperature ratio (cruise altitude temp / sea level temp)\n",
    "M = 0.85       # Mach number\n",
    "n = 0.8\n",
    "TSFC0 = 16974.41  # Takeoff thrust\n",
    "\n",
    "# Correcting the exponentiation operator\n",
    "TSFC = TSFC0 * (theta ** 0.5) * ((1 + M) ** n)\n",
    "\n",
    "print(f\"Thrust specific fuel consumption: {TSFC:.2f}\")\n",
    "#this still has some problems with it \n",
    "\n",
    "\n",
    "\n",
    "\n",
    "\n"
   ]
  },
  {
   "cell_type": "code",
   "execution_count": null,
   "id": "537585ec",
   "metadata": {},
   "outputs": [],
   "source": []
  }
 ],
 "metadata": {
  "kernelspec": {
   "display_name": "base",
   "language": "python",
   "name": "python3"
  },
  "language_info": {
   "codemirror_mode": {
    "name": "ipython",
    "version": 3
   },
   "file_extension": ".py",
   "mimetype": "text/x-python",
   "name": "python",
   "nbconvert_exporter": "python",
   "pygments_lexer": "ipython3",
   "version": "3.12.4"
  }
 },
 "nbformat": 4,
 "nbformat_minor": 5
}
