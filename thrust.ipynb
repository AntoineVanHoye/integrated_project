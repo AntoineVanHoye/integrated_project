{
 "cells": [
  {
   "cell_type": "code",
   "execution_count": 28,
   "id": "89b8383b-7933-411d-b163-2cb36f11697c",
   "metadata": {},
   "outputs": [
    {
     "name": "stdout",
     "output_type": "stream",
     "text": [
      "Takeoff velocity: 64.08 m/s\n",
      "required takeoff thrust:16974.41 N\n",
      "required cruise thrust:55218.75 N\n",
      "required climb thrust:123782.42 N\n",
      "required landing thrust:19845.00 N\n"
     ]
    }
   ],
   "source": [
    "import math\n",
    "rho = 1.225           # Air density at sea level kg/m^3\n",
    "rho_cruise = 0.38     # Air density at 41 000 ft in  kg/m^3\n",
    "Cd1 = 0.045            # drag coefficient for takeoff segment  \n",
    "Cd2 = 0.04             # drag coefficient for climb segment \n",
    "Cd3 = 0.031            # drag coefficient for cruise segment\n",
    "Cd4 = 0.06             #drag coefficient for landing segment with high lifting devices \n",
    "S =  150                 # wing area in m^2\n",
    "W = 471511.32        # MTOW in Newton (106 000 lb)\n",
    "v2= 150                 # climb velocity m/s\n",
    "v3 = 250             # Cruise speed in m/s (0.85)\n",
    "v4= 60                 # landing velocity m/s\n",
    "gamma = 5            # climb angle in rad \n",
    "Clmax1 =  1.8       # Clmax at takeoff \n",
    "\n",
    "stall_speed1 = math.sqrt((2*W)/(rho*S*Clmax1)) # stall speed at takeoff\n",
    "v1 = 1.2*stall_speed1  # takeoff velocity in m/s \n",
    "print (f\"Takeoff velocity: {v1:.2f} m/s\")\n",
    "\n",
    "def dynamic_pressure(rho, V):   #function to compute dynamic pressure\n",
    "    return 0.5*rho*V**2\n",
    "\n",
    "def thrust_required( Cd, q, S):   # function to compute required thrust \n",
    "   # q = dynamic_pressure(rho, V)\n",
    "    return Cd* q* S\n",
    "\n",
    "def thrust_required_climb( W, gamma):           #function to compute required thrust for climb\n",
    "    gamma = math.radians(gamma)\n",
    "    return W* math.sin(gamma)\n",
    "\n",
    "# required thrust for the remaining segments\n",
    "q_takeoff = dynamic_pressure(rho, v1)     # takeoff dynamic pressure\n",
    "T1 = thrust_required(Cd1, q_takeoff, S)\n",
    "print(f\"required takeoff thrust:{T1:.2f} N\")\n",
    "\n",
    "\n",
    "q_cruise = dynamic_pressure(rho_cruise, v3)     # cruise dynamic pressure\n",
    "T3 = thrust_required(Cd3, q_cruise, S)\n",
    "print(f\"required cruise thrust:{T3:.2f} N\")\n",
    "\n",
    "q_climb = dynamic_pressure(rho, v2)     # climb dynamic pressure\n",
    "T_drag_climb = thrust_required(Cd2, q_climb, S)\n",
    "T2 = T_drag_climb + thrust_required_climb( W, gamma)\n",
    "print(f\"required climb thrust:{T2:.2f} N\")\n",
    "\n",
    "q_landing = dynamic_pressure(rho, v4)     # landing dynamic pressure\n",
    "T4 = thrust_required(Cd4, q_landing, S)\n",
    "print(f\"required landing thrust:{T4:.2f} N\")\n",
    "\n"
   ]
  },
  {
   "cell_type": "code",
   "execution_count": null,
   "id": "82007cf9-5efc-4f1f-b91d-e0dd2f05c8ac",
   "metadata": {},
   "outputs": [],
   "source": []
  }
 ],
 "metadata": {
  "kernelspec": {
   "display_name": "Python 3 (ipykernel)",
   "language": "python",
   "name": "python3"
  },
  "language_info": {
   "codemirror_mode": {
    "name": "ipython",
    "version": 3
   },
   "file_extension": ".py",
   "mimetype": "text/x-python",
   "name": "python",
   "nbconvert_exporter": "python",
   "pygments_lexer": "ipython3",
   "version": "3.12.4"
  }
 },
 "nbformat": 4,
 "nbformat_minor": 5
}
